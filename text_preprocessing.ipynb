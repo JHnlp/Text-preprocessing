{
 "cells": [
  {
   "cell_type": "markdown",
   "metadata": {},
   "source": [
    "# 英文文本预处理"
   ]
  },
  {
   "cell_type": "markdown",
   "metadata": {},
   "source": [
    "1、英文缩写替换"
   ]
  },
  {
   "cell_type": "code",
   "execution_count": 2,
   "metadata": {},
   "outputs": [
    {
     "data": {
      "text/plain": [
       "'The story loses its bite in a last-minute happy ending that is even less plausible than the rest of the picture . It is funny .'"
      ]
     },
     "execution_count": 2,
     "metadata": {},
     "output_type": "execute_result"
    }
   ],
   "source": [
    "text = \"The story loses its bite in a last-minute happy ending that's even less plausible than the rest of the picture . It's funny .\"\n",
    "\n",
    "text.replace(\"that's\", \"that is\").replace(\"It's\", \"It is\")"
   ]
  },
  {
   "cell_type": "markdown",
   "metadata": {},
   "source": [
    "2、大写字母转换为小写字母"
   ]
  },
  {
   "cell_type": "code",
   "execution_count": 3,
   "metadata": {},
   "outputs": [
    {
     "data": {
      "text/plain": [
       "'the story loses its bite in a last-minute happy ending that is even less plausible than the rest of the picture . it is funny .'"
      ]
     },
     "execution_count": 3,
     "metadata": {},
     "output_type": "execute_result"
    }
   ],
   "source": [
    "text = 'The story loses its bite in a last-minute happy ending that is even less plausible than the rest of the picture . It is funny .'\n",
    "\n",
    "text.lower()"
   ]
  },
  {
   "cell_type": "markdown",
   "metadata": {},
   "source": [
    "3、删除标点符号、数字及其它特殊字符"
   ]
  },
  {
   "cell_type": "code",
   "execution_count": 5,
   "metadata": {},
   "outputs": [
    {
     "data": {
      "text/plain": [
       "'the story loses its bite in a last minute happy ending that is even less plausible than the rest of the picture it is funny'"
      ]
     },
     "execution_count": 5,
     "metadata": {},
     "output_type": "execute_result"
    }
   ],
   "source": [
    "import re\n",
    "\n",
    "text = 'the story loses its bite in a 12 last-minute happy ending %@ that is even less plausible #$ than the rest of the picture . it is funny .'\n",
    "\n",
    "text = re.sub(\"[^a-zA-Z]\", \" \", text)\n",
    "\" \".join(text.split())  # 删除多余的空格"
   ]
  },
  {
   "cell_type": "markdown",
   "metadata": {},
   "source": [
    "4、分词"
   ]
  },
  {
   "cell_type": "code",
   "execution_count": 9,
   "metadata": {},
   "outputs": [
    {
     "name": "stdout",
     "output_type": "stream",
     "text": [
      "使用nltk库进行分词：\n",
      " ['the', 'story', 'loses', 'its', 'bite', 'in', 'a', 'last', 'minute', 'happy', 'ending', 'that', 'is', 'even', 'less', 'plausible', 'than', 'the', 'rest', 'of', 'the', 'picture', 'it', 'is', 'funny']\n",
      "使用split函数进行分词：\n",
      " ['the', 'story', 'loses', 'its', 'bite', 'in', 'a', 'last', 'minute', 'happy', 'ending', 'that', 'is', 'even', 'less', 'plausible', 'than', 'the', 'rest', 'of', 'the', 'picture', 'it', 'is', 'funny']\n"
     ]
    }
   ],
   "source": [
    "from nltk.tokenize import word_tokenize\n",
    "\n",
    "text = 'the story loses its bite in a last minute happy ending that is even less plausible than the rest of the picture it is funny'\n",
    "\n",
    "print(\"使用nltk库进行分词：\\n\", word_tokenize(text))\n",
    "print(\"使用split函数进行分词：\\n\", text.split())"
   ]
  },
  {
   "cell_type": "markdown",
   "metadata": {},
   "source": [
    "5、词干提取"
   ]
  },
  {
   "cell_type": "code",
   "execution_count": 16,
   "metadata": {},
   "outputs": [
    {
     "name": "stdout",
     "output_type": "stream",
     "text": [
      "happi\n",
      "countri\n",
      "happi\n",
      "countri\n"
     ]
    }
   ],
   "source": [
    "from nltk.stem.porter import PorterStemmer\n",
    "from nltk.stem import SnowballStemmer\n",
    "\n",
    "# 第一种方法\n",
    "stem_porter = PorterStemmer()\n",
    "print(stem_porter.stem('happy'))\n",
    "print(stem_porter.stem('country'))\n",
    "\n",
    "# 第二种方法\n",
    "snowball_stem = SnowballStemmer(\"english\") # 指定语言：english\n",
    "print(snowball_stem.stem('happy'))\n",
    "print(snowball_stem.stem('country'))"
   ]
  },
  {
   "cell_type": "markdown",
   "metadata": {},
   "source": [
    "6、词形还原"
   ]
  },
  {
   "cell_type": "code",
   "execution_count": 15,
   "metadata": {},
   "outputs": [
    {
     "name": "stdout",
     "output_type": "stream",
     "text": [
      "be\n",
      "cat\n"
     ]
    }
   ],
   "source": [
    "from nltk.stem.wordnet import WordNetLemmatizer\n",
    "\n",
    "lemma = WordNetLemmatizer()\n",
    "print(lemma.lemmatize('was', pos='v'))\n",
    "print(lemma.lemmatize('cats', pos='n'))"
   ]
  },
  {
   "cell_type": "markdown",
   "metadata": {},
   "source": [
    "7、删除停用词"
   ]
  },
  {
   "cell_type": "code",
   "execution_count": 17,
   "metadata": {},
   "outputs": [
    {
     "name": "stdout",
     "output_type": "stream",
     "text": [
      "story loses bite last minute happy ending even less plausible rest picture funny\n"
     ]
    }
   ],
   "source": [
    "from nltk.corpus import stopwords\n",
    "\n",
    "stop_words = stopwords.words(\"english\")\n",
    "\n",
    "text = 'the story loses its bite in a last minute happy ending that is even less plausible than the rest of the picture it is funny'\n",
    "\n",
    "del_stopwords = [w for w in text.split() if w not in stop_words]\n",
    "\n",
    "print(\" \".join(del_stopwords))"
   ]
  },
  {
   "cell_type": "code",
   "execution_count": null,
   "metadata": {},
   "outputs": [],
   "source": []
  }
 ],
 "metadata": {
  "kernelspec": {
   "display_name": "Python 3",
   "language": "python",
   "name": "python3"
  },
  "language_info": {
   "codemirror_mode": {
    "name": "ipython",
    "version": 3
   },
   "file_extension": ".py",
   "mimetype": "text/x-python",
   "name": "python",
   "nbconvert_exporter": "python",
   "pygments_lexer": "ipython3",
   "version": "3.6.3"
  }
 },
 "nbformat": 4,
 "nbformat_minor": 2
}
